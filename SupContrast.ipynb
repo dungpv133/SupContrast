{
 "cells": [
  {
   "cell_type": "code",
   "execution_count": 1,
   "metadata": {
    "colab": {
     "base_uri": "https://localhost:8080/"
    },
    "id": "zsdMeA6ErNDZ",
    "outputId": "9e07a59c-46d5-4624-e47f-0755d6121009"
   },
   "outputs": [
    {
     "name": "stdout",
     "output_type": "stream",
     "text": [
      "Cloning into 'SupContrast'...\n",
      "remote: Enumerating objects: 74, done.\u001b[K\n",
      "remote: Total 74 (delta 0), reused 0 (delta 0), pack-reused 74\u001b[K\n",
      "Receiving objects: 100% (74/74), 1.44 MiB | 25.08 MiB/s, done.\n",
      "Resolving deltas: 100% (38/38), done.\n"
     ]
    }
   ],
   "source": [
    "!git clone https://github.com/HobbitLong/SupContrast.git"
   ]
  },
  {
   "cell_type": "code",
   "execution_count": 1,
   "metadata": {
    "colab": {
     "base_uri": "https://localhost:8080/"
    },
    "collapsed": true,
    "id": "aEY1MCs5w6_l",
    "outputId": "9c492851-4a33-426a-a573-e2388ef10976"
   },
   "outputs": [
    {
     "name": "stdout",
     "output_type": "stream",
     "text": [
      "Collecting tensorboard_logger\n",
      "  Downloading tensorboard_logger-0.1.0-py2.py3-none-any.whl (17 kB)\n",
      "Requirement already satisfied: protobuf in c:\\users\\admin\\appdata\\local\\programs\\python\\python310\\lib\\site-packages (from tensorboard_logger) (3.19.4)\n",
      "Requirement already satisfied: six in c:\\users\\admin\\appdata\\local\\programs\\python\\python310\\lib\\site-packages (from tensorboard_logger) (1.16.0)\n",
      "Requirement already satisfied: numpy in c:\\users\\admin\\appdata\\local\\programs\\python\\python310\\lib\\site-packages (from tensorboard_logger) (1.23.1)\n",
      "Requirement already satisfied: scipy>=0.19.1 in c:\\users\\admin\\appdata\\local\\programs\\python\\python310\\lib\\site-packages (from tensorboard_logger) (1.8.1)\n",
      "Requirement already satisfied: pillow>=4.1.1 in c:\\users\\admin\\appdata\\local\\programs\\python\\python310\\lib\\site-packages (from tensorboard_logger) (9.1.1)\n",
      "Installing collected packages: tensorboard_logger\n",
      "Successfully installed tensorboard_logger-0.1.0\n"
     ]
    },
    {
     "name": "stderr",
     "output_type": "stream",
     "text": [
      "\n",
      "[notice] A new release of pip is available: 23.1.2 -> 23.2.1\n",
      "[notice] To update, run: python.exe -m pip install --upgrade pip\n"
     ]
    }
   ],
   "source": [
    "!pip install tensorboard_logger"
   ]
  },
  {
   "cell_type": "code",
   "execution_count": 6,
   "metadata": {
    "colab": {
     "base_uri": "https://localhost:8080/"
    },
    "collapsed": true,
    "id": "XP70n6Z8e1SW",
    "outputId": "66dbf591-3e8d-4923-a2fe-be8fcafae4f3"
   },
   "outputs": [
    {
     "name": "stdout",
     "output_type": "stream",
     "text": [
      "Collecting tensorrt\n",
      "  Using cached tensorrt-8.6.1.tar.gz (16 kB)\n",
      "  Preparing metadata (setup.py): started\n",
      "  Preparing metadata (setup.py): finished with status 'done'\n",
      "Building wheels for collected packages: tensorrt\n",
      "  Building wheel for tensorrt (setup.py): started\n",
      "  Building wheel for tensorrt (setup.py): finished with status 'error'\n",
      "  Running setup.py clean for tensorrt\n",
      "Failed to build tensorrt\n"
     ]
    },
    {
     "name": "stderr",
     "output_type": "stream",
     "text": [
      "  error: subprocess-exited-with-error\n",
      "  \n",
      "  python setup.py bdist_wheel did not run successfully.\n",
      "  exit code: 1\n",
      "  \n",
      "  [46 lines of output]\n",
      "  running bdist_wheel\n",
      "  running build\n",
      "  running build_py\n",
      "  creating build\n",
      "  creating build\\lib\n",
      "  creating build\\lib\\tensorrt\n",
      "  copying tensorrt\\__init__.py -> build\\lib\\tensorrt\n",
      "  running egg_info\n",
      "  writing tensorrt.egg-info\\PKG-INFO\n",
      "  writing dependency_links to tensorrt.egg-info\\dependency_links.txt\n",
      "  writing requirements to tensorrt.egg-info\\requires.txt\n",
      "  writing top-level names to tensorrt.egg-info\\top_level.txt\n",
      "  reading manifest file 'tensorrt.egg-info\\SOURCES.txt'\n",
      "  adding license file 'LICENSE.txt'\n",
      "  writing manifest file 'tensorrt.egg-info\\SOURCES.txt'\n",
      "  installing to build\\bdist.win-amd64\\wheel\n",
      "  running install\n",
      "  Looking in indexes: https://pypi.nvidia.com\n",
      "  ERROR: Could not find a version that satisfies the requirement tensorrt_libs==8.6.1 (from versions: none)\n",
      "  ERROR: No matching distribution found for tensorrt_libs==8.6.1\n",
      "  Traceback (most recent call last):\n",
      "    File \"<string>\", line 2, in <module>\n",
      "    File \"<pip-setuptools-caller>\", line 34, in <module>\n",
      "    File \"C:\\Users\\ADMIN\\AppData\\Local\\Temp\\pip-install-2iymys2e\\tensorrt_b0ef0a445d4f411d945b0c3a201655b3\\setup.py\", line 49, in <module>\n",
      "      setup(\n",
      "    File \"C:\\Users\\ADMIN\\AppData\\Local\\Programs\\Python\\Python310\\lib\\site-packages\\setuptools\\__init__.py\", line 153, in setup\n",
      "      return distutils.core.setup(**attrs)\n",
      "    File \"C:\\Users\\ADMIN\\AppData\\Local\\Programs\\Python\\Python310\\lib\\distutils\\core.py\", line 148, in setup\n",
      "      dist.run_commands()\n",
      "    File \"C:\\Users\\ADMIN\\AppData\\Local\\Programs\\Python\\Python310\\lib\\distutils\\dist.py\", line 966, in run_commands\n",
      "      self.run_command(cmd)\n",
      "    File \"C:\\Users\\ADMIN\\AppData\\Local\\Programs\\Python\\Python310\\lib\\distutils\\dist.py\", line 985, in run_command\n",
      "      cmd_obj.run()\n",
      "    File \"C:\\Users\\ADMIN\\AppData\\Local\\Programs\\Python\\Python310\\lib\\site-packages\\wheel\\bdist_wheel.py\", line 335, in run\n",
      "      self.run_command('install')\n",
      "    File \"C:\\Users\\ADMIN\\AppData\\Local\\Programs\\Python\\Python310\\lib\\distutils\\cmd.py\", line 313, in run_command\n",
      "      self.distribution.run_command(command)\n",
      "    File \"C:\\Users\\ADMIN\\AppData\\Local\\Programs\\Python\\Python310\\lib\\distutils\\dist.py\", line 985, in run_command\n",
      "      cmd_obj.run()\n",
      "    File \"C:\\Users\\ADMIN\\AppData\\Local\\Temp\\pip-install-2iymys2e\\tensorrt_b0ef0a445d4f411d945b0c3a201655b3\\setup.py\", line 43, in run\n",
      "      install_dep(\"{:}_libs\".format(tensorrt_module))\n",
      "    File \"C:\\Users\\ADMIN\\AppData\\Local\\Temp\\pip-install-2iymys2e\\tensorrt_b0ef0a445d4f411d945b0c3a201655b3\\setup.py\", line 41, in install_dep\n",
      "      status.check_returncode()\n",
      "    File \"C:\\Users\\ADMIN\\AppData\\Local\\Programs\\Python\\Python310\\lib\\subprocess.py\", line 456, in check_returncode\n",
      "      raise CalledProcessError(self.returncode, self.args, self.stdout,\n",
      "  subprocess.CalledProcessError: Command '['C:\\\\Users\\\\ADMIN\\\\AppData\\\\Local\\\\Programs\\\\Python\\\\Python310\\\\python.exe', '-m', 'pip', 'install', 'tensorrt_libs==8.6.1', '--index-url', 'https://pypi.nvidia.com']' returned non-zero exit status 1.\n",
      "  [end of output]\n",
      "  \n",
      "  note: This error originates from a subprocess, and is likely not a problem with pip.\n",
      "  ERROR: Failed building wheel for tensorrt\n",
      "ERROR: Could not build wheels for tensorrt, which is required to install pyproject.toml-based projects\n"
     ]
    }
   ],
   "source": [
    "!pip install tensorrt"
   ]
  },
  {
   "cell_type": "code",
   "execution_count": 4,
   "metadata": {
    "colab": {
     "base_uri": "https://localhost:8080/"
    },
    "id": "25cLh8Iqw1dB",
    "outputId": "62731899-da00-4191-9bf3-ea8b0215e716"
   },
   "outputs": [
    {
     "name": "stdout",
     "output_type": "stream",
     "text": [
      "/content/SupContrast\n"
     ]
    }
   ],
   "source": [
    "cd /content/SupContrast"
   ]
  },
  {
   "cell_type": "code",
   "execution_count": 5,
   "metadata": {
    "id": "wkLttWQs_SQR"
   },
   "outputs": [],
   "source": [
    "!mkdir /content/SupContrast/data"
   ]
  },
  {
   "cell_type": "code",
   "execution_count": null,
   "metadata": {
    "id": "DHHW87IC_cEA"
   },
   "outputs": [],
   "source": [
    "!unrar x /content/drive/MyDrive/POSTER_V2/raf-db.rar"
   ]
  },
  {
   "cell_type": "code",
   "execution_count": 8,
   "metadata": {
    "id": "z6SrC0L7E92f"
   },
   "outputs": [],
   "source": [
    "import os\n",
    "os.environ['TF_CPP_MIN_LOG_LEVEL'] = '1'\n",
    "\n",
    "import tensorflow as tf"
   ]
  },
  {
   "cell_type": "code",
   "execution_count": null,
   "metadata": {
    "colab": {
     "base_uri": "https://localhost:8080/"
    },
    "id": "LBKbsK48wQk9",
    "outputId": "1a26d338-ae39-4779-9588-5a50f3c58d2a"
   },
   "outputs": [],
   "source": [
    "!python main_supcon.py --batch_size 32 \\\n",
    "  --learning_rate 0.5 \\\n",
    "  --temp 0.1 \\\n",
    "  --cosine "
   ]
  },
  {
   "cell_type": "code",
   "execution_count": null,
   "metadata": {
    "id": "qV982e3W_hX7"
   },
   "outputs": [],
   "source": []
  },
  {
   "cell_type": "code",
   "execution_count": null,
   "metadata": {
    "id": "99iP1Wiv8n_g"
   },
   "outputs": [],
   "source": []
  }
 ],
 "metadata": {
  "accelerator": "GPU",
  "colab": {
   "gpuType": "T4",
   "provenance": []
  },
  "kernelspec": {
   "display_name": "Python 3 (ipykernel)",
   "language": "python",
   "name": "python3"
  },
  "language_info": {
   "codemirror_mode": {
    "name": "ipython",
    "version": 3
   },
   "file_extension": ".py",
   "mimetype": "text/x-python",
   "name": "python",
   "nbconvert_exporter": "python",
   "pygments_lexer": "ipython3",
   "version": "3.10.4"
  }
 },
 "nbformat": 4,
 "nbformat_minor": 1
}
